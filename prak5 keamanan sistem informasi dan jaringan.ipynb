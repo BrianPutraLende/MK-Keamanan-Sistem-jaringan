{
 "cells": [
  {
   "cell_type": "code",
   "execution_count": 8,
   "id": "4de06039-880d-4c03-8e31-dac3447d99b0",
   "metadata": {},
   "outputs": [
    {
     "name": "stdout",
     "output_type": "stream",
     "text": [
      "Plaintext: hello saya atas nama Brian Putra Lende\n",
      "Ciphertext: MOTFXUZWFGKSUDPOILCCSTGGJZMJEBAG\n"
     ]
    }
   ],
   "source": [
    "import numpy as np\n",
    "\n",
    "\n",
    "def char_to_num(char):\n",
    "    return ord(char.upper()) - ord('A') + 1\n",
    "\n",
    "\n",
    "def num_to_char(num):\n",
    "    return chr((num - 1) % 26 + ord('A'))\n",
    "\n",
    "\n",
    "def create_blocks(text, block_size):\n",
    "    text = text.upper().replace(\" \", \"\")\n",
    " \n",
    "    while len(text) % block_size != 0:\n",
    "        text += 'X'\n",
    "    blocks = [text[i:i+block_size] for i in range(0, len(text), block_size)]\n",
    "    return blocks\n",
    "\n",
    "\n",
    "def hill_encrypt(plain_text, key_matrix):\n",
    "    block_size = key_matrix.shape[0]\n",
    "    blocks = create_blocks(plain_text, block_size)\n",
    "    cipher_text = \"\"\n",
    "\n",
    "    for block in blocks:\n",
    "        vector = np.array([[char_to_num(c)] for c in block])\n",
    "        result = np.dot(key_matrix, vector) % 26\n",
    "        cipher_block = ''.join(num_to_char(int(n)) for n in result.flatten())\n",
    "        cipher_text += cipher_block\n",
    "\n",
    "    return cipher_text\n",
    "\n",
    "\n",
    "if __name__ == \"__main__\":\n",
    "    \n",
    "    key_matrix = np.array([[3, 3], [2, 5]])\n",
    "    \n",
    "    plain_text = \"hello saya atas nama Brian Putra Lende\"\n",
    "    cipher = hill_encrypt(plain_text, key_matrix)\n",
    "    print(\"Plaintext:\", plain_text)\n",
    "    print(\"Ciphertext:\", cipher)\n"
   ]
  },
  {
   "cell_type": "code",
   "execution_count": null,
   "id": "49206947-c217-4b46-8c8d-64f8fb71edf4",
   "metadata": {},
   "outputs": [],
   "source": []
  }
 ],
 "metadata": {
  "kernelspec": {
   "display_name": "Python [conda env:base] *",
   "language": "python",
   "name": "conda-base-py"
  },
  "language_info": {
   "codemirror_mode": {
    "name": "ipython",
    "version": 3
   },
   "file_extension": ".py",
   "mimetype": "text/x-python",
   "name": "python",
   "nbconvert_exporter": "python",
   "pygments_lexer": "ipython3",
   "version": "3.12.7"
  }
 },
 "nbformat": 4,
 "nbformat_minor": 5
}
