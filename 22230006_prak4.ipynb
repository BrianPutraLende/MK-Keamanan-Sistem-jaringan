{
 "cells": [
  {
   "cell_type": "code",
   "execution_count": 74,
   "id": "92c784da-59af-4c57-b1c6-f918d69b52d0",
   "metadata": {},
   "outputs": [
    {
     "name": "stdout",
     "output_type": "stream",
     "text": [
      "pesan asli  : AGUS MEMANCING DI SUNGAI\n",
      "keyword     : CMRI FNPUJXLCA ZH XLFTUZ\n",
      "hasil enkripsi : CSLA RRBUWZTPG CP PFSZUH\n"
     ]
    }
   ],
   "source": [
    "def generate_key(message: str, keyword: str) -> str:\n",
    "    \"\"\"\n",
    "    menyesuaikan panjang keyword agar sama dengan panjang peasn.\n",
    "    \"\"\"\n",
    "    keyword = list(keyword)\n",
    "    if len (message) == len(keyword):\n",
    "        return\"\".join (keyword)\n",
    "    else:\n",
    "        for i in range(len(message) - len (keyword)):\n",
    "            keyword.append(keyword[i % len(keyword)])\n",
    "        return \"\".join(keyword)\n",
    "\n",
    "def enrypt_vigenere(plain_text: str , keyword: str) -> str:\n",
    "    \"\"\"\n",
    "    mengenkripsi plain_text menggunakan vigenere cipher dan keyword.\n",
    "    hanya huruf alfabet yang dienkripsi.\n",
    "    \"\"\"\n",
    "    encrypted_text = []\n",
    "    key = generate_key(plain_text, keyword)\n",
    "\n",
    "    for i in range(len(plain_text)):\n",
    "        if plain_text[i].isalpha():\n",
    "            shift = ord(key[i].upper()) - ord('A')\n",
    "            if plain_text[i].isupper():\n",
    "                encrypted_char = chr((ord(plain_text[i]) - ord('A') + shift) % 26 + ord('A'))\n",
    "            else:\n",
    "               encrypted_char = chr((ord(plain_text[i]) - ord('a') + shift) % 26 + ord('a'))\n",
    "            encrypted_text.append(encrypted_char)\n",
    "        else:\n",
    "            encrypted_text.append(plain_text[i])\n",
    "\n",
    "    return\"\".join(encrypted_text)\n",
    "\n",
    "\n",
    "message = \"AGUS MEMANCING DI SUNGAI\"\n",
    "keyword = \"CMRI FNPUJXLCA ZH XLFTUZ\"\n",
    "encrypted = encrypt_vigenere(message, keyword)\n",
    "print(\"pesan asli  :\", message)\n",
    "print(\"keyword     :\", keyword)\n",
    "print(\"hasil enkripsi :\", encrypted)\n",
    "            "
   ]
  },
  {
   "cell_type": "code",
   "execution_count": null,
   "id": "e4f60857-bcba-4125-9aa3-0bc2d7bf77b7",
   "metadata": {},
   "outputs": [],
   "source": []
  }
 ],
 "metadata": {
  "kernelspec": {
   "display_name": "Python [conda env:base] *",
   "language": "python",
   "name": "conda-base-py"
  },
  "language_info": {
   "codemirror_mode": {
    "name": "ipython",
    "version": 3
   },
   "file_extension": ".py",
   "mimetype": "text/x-python",
   "name": "python",
   "nbconvert_exporter": "python",
   "pygments_lexer": "ipython3",
   "version": "3.12.7"
  }
 },
 "nbformat": 4,
 "nbformat_minor": 5
}
