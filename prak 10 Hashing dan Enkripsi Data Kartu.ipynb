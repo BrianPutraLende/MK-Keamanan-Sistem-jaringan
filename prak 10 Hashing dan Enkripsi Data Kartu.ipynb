{
 "cells": [
  {
   "cell_type": "code",
   "execution_count": 1,
   "id": "685eae47-8b86-450e-ab03-fcbba3c29b83",
   "metadata": {},
   "outputs": [
    {
     "name": "stdout",
     "output_type": "stream",
     "text": [
      "Kunci Enkripsi      : NwN9_QE-uDlIPuAk_ZTjy_Pg3iH5PN6fqA3NpZD1634=\n",
      "Data Terenkripsi    : gAAAAABoWLxEV_QsYXoRCIjHu_n-Xle-5QM75s_zAnT2XYTYNk0PsRMZf1ijJn3NOyquDlWmRI81iuB0BlxKQpHyEMgaupWJYDdDopAQe_Ma9eKGloe1gzM=\n",
      "Data Setelah Dekripsi: 4111111111111111|123|12/27\n"
     ]
    }
   ],
   "source": [
    "from cryptography.fernet import Fernet\n",
    "\n",
    "# Generate dan simpan kunci enkripsi\n",
    "key = Fernet.generate_key()\n",
    "cipher = Fernet(key)\n",
    "\n",
    "# Data kartu dummy\n",
    "data_kartu = \"4111111111111111|123|12/27\"\n",
    "\n",
    "# Enkripsi\n",
    "data_terenkripsi = cipher.encrypt(data_kartu.encode())\n",
    "\n",
    "# Dekripsi\n",
    "data_terdekripsi = cipher.decrypt(data_terenkripsi).decode()\n",
    "\n",
    "print(\"Kunci Enkripsi      :\", key.decode())\n",
    "print(\"Data Terenkripsi    :\", data_terenkripsi.decode())\n",
    "print(\"Data Setelah Dekripsi:\", data_terdekripsi)\n"
   ]
  },
  {
   "cell_type": "code",
   "execution_count": null,
   "id": "b2a44e86-0019-4ff4-b6a4-11421bc7cf05",
   "metadata": {},
   "outputs": [],
   "source": []
  }
 ],
 "metadata": {
  "kernelspec": {
   "display_name": "Python [conda env:base] *",
   "language": "python",
   "name": "conda-base-py"
  },
  "language_info": {
   "codemirror_mode": {
    "name": "ipython",
    "version": 3
   },
   "file_extension": ".py",
   "mimetype": "text/x-python",
   "name": "python",
   "nbconvert_exporter": "python",
   "pygments_lexer": "ipython3",
   "version": "3.12.7"
  }
 },
 "nbformat": 4,
 "nbformat_minor": 5
}
